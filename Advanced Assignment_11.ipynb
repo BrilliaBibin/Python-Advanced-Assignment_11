{
 "cells": [
  {
   "cell_type": "markdown",
   "id": "7bdfd064-cede-4466-a48e-4e0eb93f7726",
   "metadata": {},
   "source": [
    "Q1. What is the concept of a metaclass?\n",
    "\n",
    "           Python is a class of a class that defines how a class behaves. A class is itself an instance of a metaclass. A class in Python defines how the instance of the class will behave. "
   ]
  },
  {
   "cell_type": "code",
   "execution_count": 1,
   "id": "db49938e-cde5-4957-96e8-0214758605a6",
   "metadata": {},
   "outputs": [
    {
     "name": "stdout",
     "output_type": "stream",
     "text": [
      "<__main__.TestClass object at 0x7efdc85dbc10>\n"
     ]
    }
   ],
   "source": [
    "class TestClass():\n",
    "    pass\n",
    "\n",
    "my_test_class = TestClass()\n",
    "print(my_test_class)\n"
   ]
  },
  {
   "cell_type": "markdown",
   "id": "3a89a954-fc19-4aa8-9076-a5657ae98cc8",
   "metadata": {},
   "source": [
    "Q2. What is the best way to declare a class's metaclass?\n",
    "\n",
    "            In order to set metaclass of a class, we use the __metaclass__ attribute.The metaclass is determined by looking at the baseclasses of the class-to-be (metaclasses are inherited), at the __metaclass__ attribute of the class-to-be (if any) or the __metaclass__ global variable. The metaclass is then called with the name, bases and attributes of the class to instantiate it."
   ]
  },
  {
   "cell_type": "code",
   "execution_count": 2,
   "id": "c945a2be-c335-4282-8122-a2ed89827afd",
   "metadata": {},
   "outputs": [
    {
     "name": "stdout",
     "output_type": "stream",
     "text": [
      "<class 'type'>\n",
      "<class '__main__.A'>\n",
      "<class '__main__.A'>\n"
     ]
    }
   ],
   "source": [
    "class A(type):\n",
    "    pass\n",
    "\n",
    "class B(metaclass=A):  # for class B, class A is a metaclass\n",
    "    pass\n",
    "class C(B):\n",
    "    pass\n",
    "\n",
    "print(type(A))\n",
    "print(type(B))\n",
    "print(type(C))"
   ]
  },
  {
   "cell_type": "markdown",
   "id": "78d3c6cc-e176-42d8-9589-2da554b3c292",
   "metadata": {},
   "source": [
    "Q3. How do class decorators overlap with metaclasses for handling classes?\n",
    "\n",
    "        Both metaclasses and decorators are used to modify the behavior of classes and functions but operate using different mechanisms. Metaclasses operate at the lower level and allow you to change the structure or behavior of the class, like the class methods, attributes, and inheritance. Decorators, however, are used to modify the functions’ behavior.\n",
    "        While decorators and metaclasses are two separate concepts, they can be used together to achieve more complex functionality. For example, you can use a decorator to add a method to a class, and then use a metaclass to modify the behavior of that method.\n",
    "        Anything you can do with a class decorator, you can of course do with a custom metaclass (just apply the functionality of the “decorator function”, i.e., the one that takes a class object and modifies it, in the course of the metaclass’s new or init that make the class object!)"
   ]
  },
  {
   "cell_type": "markdown",
   "id": "2bee4f7e-5d6a-4caa-9de4-24c5bad0c7a9",
   "metadata": {},
   "source": [
    "Q4. How do class decorators overlap with metaclasses for handling instances?\n",
    "\n",
    "        Class decorators and metaclasses both provide ways to manage instances of a class, but they have different levels of power and flexibility. Class decorators are more focused and easier to use for single-class modifications, while metaclasses offer more control and can be used to manage instances of multiple classes.\n",
    "        Class decorators are applied to a specific class and can be easily added or removed without affecting other classes. This makes them more flexible and easier to use for managing instances of a single class.\n",
    "        Metaclasses, on the other hand, are classes that define the behavior of other classes. They can be used to manage instances of multiple classes"
   ]
  }
 ],
 "metadata": {
  "kernelspec": {
   "display_name": "Python 3 (ipykernel)",
   "language": "python",
   "name": "python3"
  },
  "language_info": {
   "codemirror_mode": {
    "name": "ipython",
    "version": 3
   },
   "file_extension": ".py",
   "mimetype": "text/x-python",
   "name": "python",
   "nbconvert_exporter": "python",
   "pygments_lexer": "ipython3",
   "version": "3.10.6"
  }
 },
 "nbformat": 4,
 "nbformat_minor": 5
}
